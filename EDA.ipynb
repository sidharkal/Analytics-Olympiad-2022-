{
  "nbformat": 4,
  "nbformat_minor": 0,
  "metadata": {
    "colab": {
      "provenance": [],
      "authorship_tag": "ABX9TyN0t2rEQJalCOTrYLpYU5Ho",
      "include_colab_link": true
    },
    "kernelspec": {
      "name": "python3",
      "display_name": "Python 3"
    },
    "language_info": {
      "name": "python"
    }
  },
  "cells": [
    {
      "cell_type": "markdown",
      "metadata": {
        "id": "view-in-github",
        "colab_type": "text"
      },
      "source": [
        "<a href=\"https://colab.research.google.com/github/sidharkal/Analytics-Olympiad-2022-/blob/main/EDA.ipynb\" target=\"_parent\"><img src=\"https://colab.research.google.com/assets/colab-badge.svg\" alt=\"Open In Colab\"/></a>"
      ]
    },
    {
      "cell_type": "markdown",
      "source": [
        "# Data Preprocessing 🛠"
      ],
      "metadata": {
        "id": "e2Cu8P9AS3jb"
      }
    },
    {
      "cell_type": "code",
      "execution_count": 1,
      "metadata": {
        "id": "rqVjln1sSSUa"
      },
      "outputs": [],
      "source": [
        "# Import Data Libraries\n",
        "import pandas as pd\n",
        "import numpy as np\n",
        "\n",
        "# Import Visualization Libraries\n",
        "import seaborn as sns\n",
        "import matplotlib.pyplot as plt\n",
        "%matplotlib inline\n",
        "\n",
        "import warnings \n",
        "warnings.filterwarnings('ignore')"
      ]
    },
    {
      "cell_type": "markdown",
      "source": [
        "##  Importing the data"
      ],
      "metadata": {
        "id": "QBG801yAS-By"
      }
    },
    {
      "cell_type": "code",
      "source": [
        "# Read in the datasets\n",
        "train = pd.read_csv(\"/content/train.csv\")\n",
        "test = pd.read_csv(\"/content/test.csv\")\n",
        "\n",
        "# Drop ID columns\n",
        "train.drop(columns=\"ID\", axis=1, inplace=True)\n",
        "test.drop(columns=\"ID\", axis=1, inplace=True)\n",
        "\n",
        "\n",
        "# Explore the head of the dataframe\n",
        "train.head()"
      ],
      "metadata": {
        "colab": {
          "base_uri": "https://localhost:8080/",
          "height": 357
        },
        "id": "_RJKkAVUSyAM",
        "outputId": "8af9d9dd-0d86-4077-d081-2d6f7d01bc8c"
      },
      "execution_count": 2,
      "outputs": [
        {
          "output_type": "execute_result",
          "data": {
            "text/plain": [
              "     AGE  GENDER DRIVING_EXPERIENCE    EDUCATION         INCOME  CREDIT_SCORE  \\\n",
              "0  40-64  female             20-29y   university   middle class      0.638050   \n",
              "1  26-39    male             20-29y  high school   middle class      0.475741   \n",
              "2  40-64    male             20-29y         none   middle class      0.839817   \n",
              "3  40-64    male             20-29y  high school    upper class      0.682527   \n",
              "4  40-64  female             20-29y         none  working class      0.572184   \n",
              "\n",
              "   VEHICLE_OWNERSHIP VEHICLE_YEAR  MARRIED  CHILDREN  POSTAL_CODE  \\\n",
              "0                0.0   after 2015      0.0       0.0        37379   \n",
              "1                1.0  before 2015      1.0       0.0        10238   \n",
              "2                1.0  before 2015      1.0       1.0        10238   \n",
              "3                1.0  before 2015      0.0       1.0        92099   \n",
              "4                1.0   after 2015      1.0       1.0        32122   \n",
              "\n",
              "   ANNUAL_MILEAGE  SPEEDING_VIOLATIONS  DUIS  PAST_ACCIDENTS  OUTCOME  \\\n",
              "0         11000.0                    0     0               0      0.0   \n",
              "1          9000.0                    0     0               0      1.0   \n",
              "2         12000.0                    0     0               0      1.0   \n",
              "3          6000.0                    1     0               0      1.0   \n",
              "4         15000.0                    0     0               1      0.0   \n",
              "\n",
              "  TYPE_OF_VEHICLE  \n",
              "0      Sports Car  \n",
              "1       HatchBack  \n",
              "2           Sedan  \n",
              "3           Sedan  \n",
              "4           Sedan  "
            ],
            "text/html": [
              "\n",
              "  <div id=\"df-a7e17d8a-59ef-498a-8d8a-d137216a1022\">\n",
              "    <div class=\"colab-df-container\">\n",
              "      <div>\n",
              "<style scoped>\n",
              "    .dataframe tbody tr th:only-of-type {\n",
              "        vertical-align: middle;\n",
              "    }\n",
              "\n",
              "    .dataframe tbody tr th {\n",
              "        vertical-align: top;\n",
              "    }\n",
              "\n",
              "    .dataframe thead th {\n",
              "        text-align: right;\n",
              "    }\n",
              "</style>\n",
              "<table border=\"1\" class=\"dataframe\">\n",
              "  <thead>\n",
              "    <tr style=\"text-align: right;\">\n",
              "      <th></th>\n",
              "      <th>AGE</th>\n",
              "      <th>GENDER</th>\n",
              "      <th>DRIVING_EXPERIENCE</th>\n",
              "      <th>EDUCATION</th>\n",
              "      <th>INCOME</th>\n",
              "      <th>CREDIT_SCORE</th>\n",
              "      <th>VEHICLE_OWNERSHIP</th>\n",
              "      <th>VEHICLE_YEAR</th>\n",
              "      <th>MARRIED</th>\n",
              "      <th>CHILDREN</th>\n",
              "      <th>POSTAL_CODE</th>\n",
              "      <th>ANNUAL_MILEAGE</th>\n",
              "      <th>SPEEDING_VIOLATIONS</th>\n",
              "      <th>DUIS</th>\n",
              "      <th>PAST_ACCIDENTS</th>\n",
              "      <th>OUTCOME</th>\n",
              "      <th>TYPE_OF_VEHICLE</th>\n",
              "    </tr>\n",
              "  </thead>\n",
              "  <tbody>\n",
              "    <tr>\n",
              "      <th>0</th>\n",
              "      <td>40-64</td>\n",
              "      <td>female</td>\n",
              "      <td>20-29y</td>\n",
              "      <td>university</td>\n",
              "      <td>middle class</td>\n",
              "      <td>0.638050</td>\n",
              "      <td>0.0</td>\n",
              "      <td>after 2015</td>\n",
              "      <td>0.0</td>\n",
              "      <td>0.0</td>\n",
              "      <td>37379</td>\n",
              "      <td>11000.0</td>\n",
              "      <td>0</td>\n",
              "      <td>0</td>\n",
              "      <td>0</td>\n",
              "      <td>0.0</td>\n",
              "      <td>Sports Car</td>\n",
              "    </tr>\n",
              "    <tr>\n",
              "      <th>1</th>\n",
              "      <td>26-39</td>\n",
              "      <td>male</td>\n",
              "      <td>20-29y</td>\n",
              "      <td>high school</td>\n",
              "      <td>middle class</td>\n",
              "      <td>0.475741</td>\n",
              "      <td>1.0</td>\n",
              "      <td>before 2015</td>\n",
              "      <td>1.0</td>\n",
              "      <td>0.0</td>\n",
              "      <td>10238</td>\n",
              "      <td>9000.0</td>\n",
              "      <td>0</td>\n",
              "      <td>0</td>\n",
              "      <td>0</td>\n",
              "      <td>1.0</td>\n",
              "      <td>HatchBack</td>\n",
              "    </tr>\n",
              "    <tr>\n",
              "      <th>2</th>\n",
              "      <td>40-64</td>\n",
              "      <td>male</td>\n",
              "      <td>20-29y</td>\n",
              "      <td>none</td>\n",
              "      <td>middle class</td>\n",
              "      <td>0.839817</td>\n",
              "      <td>1.0</td>\n",
              "      <td>before 2015</td>\n",
              "      <td>1.0</td>\n",
              "      <td>1.0</td>\n",
              "      <td>10238</td>\n",
              "      <td>12000.0</td>\n",
              "      <td>0</td>\n",
              "      <td>0</td>\n",
              "      <td>0</td>\n",
              "      <td>1.0</td>\n",
              "      <td>Sedan</td>\n",
              "    </tr>\n",
              "    <tr>\n",
              "      <th>3</th>\n",
              "      <td>40-64</td>\n",
              "      <td>male</td>\n",
              "      <td>20-29y</td>\n",
              "      <td>high school</td>\n",
              "      <td>upper class</td>\n",
              "      <td>0.682527</td>\n",
              "      <td>1.0</td>\n",
              "      <td>before 2015</td>\n",
              "      <td>0.0</td>\n",
              "      <td>1.0</td>\n",
              "      <td>92099</td>\n",
              "      <td>6000.0</td>\n",
              "      <td>1</td>\n",
              "      <td>0</td>\n",
              "      <td>0</td>\n",
              "      <td>1.0</td>\n",
              "      <td>Sedan</td>\n",
              "    </tr>\n",
              "    <tr>\n",
              "      <th>4</th>\n",
              "      <td>40-64</td>\n",
              "      <td>female</td>\n",
              "      <td>20-29y</td>\n",
              "      <td>none</td>\n",
              "      <td>working class</td>\n",
              "      <td>0.572184</td>\n",
              "      <td>1.0</td>\n",
              "      <td>after 2015</td>\n",
              "      <td>1.0</td>\n",
              "      <td>1.0</td>\n",
              "      <td>32122</td>\n",
              "      <td>15000.0</td>\n",
              "      <td>0</td>\n",
              "      <td>0</td>\n",
              "      <td>1</td>\n",
              "      <td>0.0</td>\n",
              "      <td>Sedan</td>\n",
              "    </tr>\n",
              "  </tbody>\n",
              "</table>\n",
              "</div>\n",
              "      <button class=\"colab-df-convert\" onclick=\"convertToInteractive('df-a7e17d8a-59ef-498a-8d8a-d137216a1022')\"\n",
              "              title=\"Convert this dataframe to an interactive table.\"\n",
              "              style=\"display:none;\">\n",
              "        \n",
              "  <svg xmlns=\"http://www.w3.org/2000/svg\" height=\"24px\"viewBox=\"0 0 24 24\"\n",
              "       width=\"24px\">\n",
              "    <path d=\"M0 0h24v24H0V0z\" fill=\"none\"/>\n",
              "    <path d=\"M18.56 5.44l.94 2.06.94-2.06 2.06-.94-2.06-.94-.94-2.06-.94 2.06-2.06.94zm-11 1L8.5 8.5l.94-2.06 2.06-.94-2.06-.94L8.5 2.5l-.94 2.06-2.06.94zm10 10l.94 2.06.94-2.06 2.06-.94-2.06-.94-.94-2.06-.94 2.06-2.06.94z\"/><path d=\"M17.41 7.96l-1.37-1.37c-.4-.4-.92-.59-1.43-.59-.52 0-1.04.2-1.43.59L10.3 9.45l-7.72 7.72c-.78.78-.78 2.05 0 2.83L4 21.41c.39.39.9.59 1.41.59.51 0 1.02-.2 1.41-.59l7.78-7.78 2.81-2.81c.8-.78.8-2.07 0-2.86zM5.41 20L4 18.59l7.72-7.72 1.47 1.35L5.41 20z\"/>\n",
              "  </svg>\n",
              "      </button>\n",
              "      \n",
              "  <style>\n",
              "    .colab-df-container {\n",
              "      display:flex;\n",
              "      flex-wrap:wrap;\n",
              "      gap: 12px;\n",
              "    }\n",
              "\n",
              "    .colab-df-convert {\n",
              "      background-color: #E8F0FE;\n",
              "      border: none;\n",
              "      border-radius: 50%;\n",
              "      cursor: pointer;\n",
              "      display: none;\n",
              "      fill: #1967D2;\n",
              "      height: 32px;\n",
              "      padding: 0 0 0 0;\n",
              "      width: 32px;\n",
              "    }\n",
              "\n",
              "    .colab-df-convert:hover {\n",
              "      background-color: #E2EBFA;\n",
              "      box-shadow: 0px 1px 2px rgba(60, 64, 67, 0.3), 0px 1px 3px 1px rgba(60, 64, 67, 0.15);\n",
              "      fill: #174EA6;\n",
              "    }\n",
              "\n",
              "    [theme=dark] .colab-df-convert {\n",
              "      background-color: #3B4455;\n",
              "      fill: #D2E3FC;\n",
              "    }\n",
              "\n",
              "    [theme=dark] .colab-df-convert:hover {\n",
              "      background-color: #434B5C;\n",
              "      box-shadow: 0px 1px 3px 1px rgba(0, 0, 0, 0.15);\n",
              "      filter: drop-shadow(0px 1px 2px rgba(0, 0, 0, 0.3));\n",
              "      fill: #FFFFFF;\n",
              "    }\n",
              "  </style>\n",
              "\n",
              "      <script>\n",
              "        const buttonEl =\n",
              "          document.querySelector('#df-a7e17d8a-59ef-498a-8d8a-d137216a1022 button.colab-df-convert');\n",
              "        buttonEl.style.display =\n",
              "          google.colab.kernel.accessAllowed ? 'block' : 'none';\n",
              "\n",
              "        async function convertToInteractive(key) {\n",
              "          const element = document.querySelector('#df-a7e17d8a-59ef-498a-8d8a-d137216a1022');\n",
              "          const dataTable =\n",
              "            await google.colab.kernel.invokeFunction('convertToInteractive',\n",
              "                                                     [key], {});\n",
              "          if (!dataTable) return;\n",
              "\n",
              "          const docLinkHtml = 'Like what you see? Visit the ' +\n",
              "            '<a target=\"_blank\" href=https://colab.research.google.com/notebooks/data_table.ipynb>data table notebook</a>'\n",
              "            + ' to learn more about interactive tables.';\n",
              "          element.innerHTML = '';\n",
              "          dataTable['output_type'] = 'display_data';\n",
              "          await google.colab.output.renderOutput(dataTable, element);\n",
              "          const docLink = document.createElement('div');\n",
              "          docLink.innerHTML = docLinkHtml;\n",
              "          element.appendChild(docLink);\n",
              "        }\n",
              "      </script>\n",
              "    </div>\n",
              "  </div>\n",
              "  "
            ]
          },
          "metadata": {},
          "execution_count": 2
        }
      ]
    },
    {
      "cell_type": "code",
      "source": [
        "test.head()"
      ],
      "metadata": {
        "colab": {
          "base_uri": "https://localhost:8080/",
          "height": 357
        },
        "id": "KVddojHDTqwV",
        "outputId": "3bbd662d-d521-40e9-ee6a-64351187d704"
      },
      "execution_count": 3,
      "outputs": [
        {
          "output_type": "execute_result",
          "data": {
            "text/plain": [
              "     AGE  GENDER DRIVING_EXPERIENCE    EDUCATION         INCOME  CREDIT_SCORE  \\\n",
              "0  40-64    male             10-19y         none  working class      0.814707   \n",
              "1  26-39  female             20-29y  high school    upper class      0.344051   \n",
              "2  40-64    male             10-19y         none    upper class      0.620691   \n",
              "3  26-39    male             20-29y  high school    upper class      0.689658   \n",
              "4    65+    male             10-19y         none   middle class      0.755666   \n",
              "\n",
              "   VEHICLE_OWNERSHIP VEHICLE_YEAR  MARRIED  CHILDREN  POSTAL_CODE  \\\n",
              "0                1.0   after 2015      0.0       1.0        10238   \n",
              "1                1.0  before 2015      0.0       0.0        34073   \n",
              "2                0.0   after 2015      1.0       0.0        10238   \n",
              "3                1.0   after 2015      1.0       1.0        10238   \n",
              "4                0.0   after 2015      0.0       1.0        92101   \n",
              "\n",
              "   ANNUAL_MILEAGE  SPEEDING_VIOLATIONS  DUIS  PAST_ACCIDENTS TYPE_OF_VEHICLE  \n",
              "0         10000.0                    0     0               0       HatchBack  \n",
              "1         13000.0                    0     0               0           Sedan  \n",
              "2         12000.0                    0     0               0             SUV  \n",
              "3         16000.0                    1     0               0             SUV  \n",
              "4         14000.0                    2     0               0       HatchBack  "
            ],
            "text/html": [
              "\n",
              "  <div id=\"df-563745d8-9812-42b0-aa5a-987a577a0b09\">\n",
              "    <div class=\"colab-df-container\">\n",
              "      <div>\n",
              "<style scoped>\n",
              "    .dataframe tbody tr th:only-of-type {\n",
              "        vertical-align: middle;\n",
              "    }\n",
              "\n",
              "    .dataframe tbody tr th {\n",
              "        vertical-align: top;\n",
              "    }\n",
              "\n",
              "    .dataframe thead th {\n",
              "        text-align: right;\n",
              "    }\n",
              "</style>\n",
              "<table border=\"1\" class=\"dataframe\">\n",
              "  <thead>\n",
              "    <tr style=\"text-align: right;\">\n",
              "      <th></th>\n",
              "      <th>AGE</th>\n",
              "      <th>GENDER</th>\n",
              "      <th>DRIVING_EXPERIENCE</th>\n",
              "      <th>EDUCATION</th>\n",
              "      <th>INCOME</th>\n",
              "      <th>CREDIT_SCORE</th>\n",
              "      <th>VEHICLE_OWNERSHIP</th>\n",
              "      <th>VEHICLE_YEAR</th>\n",
              "      <th>MARRIED</th>\n",
              "      <th>CHILDREN</th>\n",
              "      <th>POSTAL_CODE</th>\n",
              "      <th>ANNUAL_MILEAGE</th>\n",
              "      <th>SPEEDING_VIOLATIONS</th>\n",
              "      <th>DUIS</th>\n",
              "      <th>PAST_ACCIDENTS</th>\n",
              "      <th>TYPE_OF_VEHICLE</th>\n",
              "    </tr>\n",
              "  </thead>\n",
              "  <tbody>\n",
              "    <tr>\n",
              "      <th>0</th>\n",
              "      <td>40-64</td>\n",
              "      <td>male</td>\n",
              "      <td>10-19y</td>\n",
              "      <td>none</td>\n",
              "      <td>working class</td>\n",
              "      <td>0.814707</td>\n",
              "      <td>1.0</td>\n",
              "      <td>after 2015</td>\n",
              "      <td>0.0</td>\n",
              "      <td>1.0</td>\n",
              "      <td>10238</td>\n",
              "      <td>10000.0</td>\n",
              "      <td>0</td>\n",
              "      <td>0</td>\n",
              "      <td>0</td>\n",
              "      <td>HatchBack</td>\n",
              "    </tr>\n",
              "    <tr>\n",
              "      <th>1</th>\n",
              "      <td>26-39</td>\n",
              "      <td>female</td>\n",
              "      <td>20-29y</td>\n",
              "      <td>high school</td>\n",
              "      <td>upper class</td>\n",
              "      <td>0.344051</td>\n",
              "      <td>1.0</td>\n",
              "      <td>before 2015</td>\n",
              "      <td>0.0</td>\n",
              "      <td>0.0</td>\n",
              "      <td>34073</td>\n",
              "      <td>13000.0</td>\n",
              "      <td>0</td>\n",
              "      <td>0</td>\n",
              "      <td>0</td>\n",
              "      <td>Sedan</td>\n",
              "    </tr>\n",
              "    <tr>\n",
              "      <th>2</th>\n",
              "      <td>40-64</td>\n",
              "      <td>male</td>\n",
              "      <td>10-19y</td>\n",
              "      <td>none</td>\n",
              "      <td>upper class</td>\n",
              "      <td>0.620691</td>\n",
              "      <td>0.0</td>\n",
              "      <td>after 2015</td>\n",
              "      <td>1.0</td>\n",
              "      <td>0.0</td>\n",
              "      <td>10238</td>\n",
              "      <td>12000.0</td>\n",
              "      <td>0</td>\n",
              "      <td>0</td>\n",
              "      <td>0</td>\n",
              "      <td>SUV</td>\n",
              "    </tr>\n",
              "    <tr>\n",
              "      <th>3</th>\n",
              "      <td>26-39</td>\n",
              "      <td>male</td>\n",
              "      <td>20-29y</td>\n",
              "      <td>high school</td>\n",
              "      <td>upper class</td>\n",
              "      <td>0.689658</td>\n",
              "      <td>1.0</td>\n",
              "      <td>after 2015</td>\n",
              "      <td>1.0</td>\n",
              "      <td>1.0</td>\n",
              "      <td>10238</td>\n",
              "      <td>16000.0</td>\n",
              "      <td>1</td>\n",
              "      <td>0</td>\n",
              "      <td>0</td>\n",
              "      <td>SUV</td>\n",
              "    </tr>\n",
              "    <tr>\n",
              "      <th>4</th>\n",
              "      <td>65+</td>\n",
              "      <td>male</td>\n",
              "      <td>10-19y</td>\n",
              "      <td>none</td>\n",
              "      <td>middle class</td>\n",
              "      <td>0.755666</td>\n",
              "      <td>0.0</td>\n",
              "      <td>after 2015</td>\n",
              "      <td>0.0</td>\n",
              "      <td>1.0</td>\n",
              "      <td>92101</td>\n",
              "      <td>14000.0</td>\n",
              "      <td>2</td>\n",
              "      <td>0</td>\n",
              "      <td>0</td>\n",
              "      <td>HatchBack</td>\n",
              "    </tr>\n",
              "  </tbody>\n",
              "</table>\n",
              "</div>\n",
              "      <button class=\"colab-df-convert\" onclick=\"convertToInteractive('df-563745d8-9812-42b0-aa5a-987a577a0b09')\"\n",
              "              title=\"Convert this dataframe to an interactive table.\"\n",
              "              style=\"display:none;\">\n",
              "        \n",
              "  <svg xmlns=\"http://www.w3.org/2000/svg\" height=\"24px\"viewBox=\"0 0 24 24\"\n",
              "       width=\"24px\">\n",
              "    <path d=\"M0 0h24v24H0V0z\" fill=\"none\"/>\n",
              "    <path d=\"M18.56 5.44l.94 2.06.94-2.06 2.06-.94-2.06-.94-.94-2.06-.94 2.06-2.06.94zm-11 1L8.5 8.5l.94-2.06 2.06-.94-2.06-.94L8.5 2.5l-.94 2.06-2.06.94zm10 10l.94 2.06.94-2.06 2.06-.94-2.06-.94-.94-2.06-.94 2.06-2.06.94z\"/><path d=\"M17.41 7.96l-1.37-1.37c-.4-.4-.92-.59-1.43-.59-.52 0-1.04.2-1.43.59L10.3 9.45l-7.72 7.72c-.78.78-.78 2.05 0 2.83L4 21.41c.39.39.9.59 1.41.59.51 0 1.02-.2 1.41-.59l7.78-7.78 2.81-2.81c.8-.78.8-2.07 0-2.86zM5.41 20L4 18.59l7.72-7.72 1.47 1.35L5.41 20z\"/>\n",
              "  </svg>\n",
              "      </button>\n",
              "      \n",
              "  <style>\n",
              "    .colab-df-container {\n",
              "      display:flex;\n",
              "      flex-wrap:wrap;\n",
              "      gap: 12px;\n",
              "    }\n",
              "\n",
              "    .colab-df-convert {\n",
              "      background-color: #E8F0FE;\n",
              "      border: none;\n",
              "      border-radius: 50%;\n",
              "      cursor: pointer;\n",
              "      display: none;\n",
              "      fill: #1967D2;\n",
              "      height: 32px;\n",
              "      padding: 0 0 0 0;\n",
              "      width: 32px;\n",
              "    }\n",
              "\n",
              "    .colab-df-convert:hover {\n",
              "      background-color: #E2EBFA;\n",
              "      box-shadow: 0px 1px 2px rgba(60, 64, 67, 0.3), 0px 1px 3px 1px rgba(60, 64, 67, 0.15);\n",
              "      fill: #174EA6;\n",
              "    }\n",
              "\n",
              "    [theme=dark] .colab-df-convert {\n",
              "      background-color: #3B4455;\n",
              "      fill: #D2E3FC;\n",
              "    }\n",
              "\n",
              "    [theme=dark] .colab-df-convert:hover {\n",
              "      background-color: #434B5C;\n",
              "      box-shadow: 0px 1px 3px 1px rgba(0, 0, 0, 0.15);\n",
              "      filter: drop-shadow(0px 1px 2px rgba(0, 0, 0, 0.3));\n",
              "      fill: #FFFFFF;\n",
              "    }\n",
              "  </style>\n",
              "\n",
              "      <script>\n",
              "        const buttonEl =\n",
              "          document.querySelector('#df-563745d8-9812-42b0-aa5a-987a577a0b09 button.colab-df-convert');\n",
              "        buttonEl.style.display =\n",
              "          google.colab.kernel.accessAllowed ? 'block' : 'none';\n",
              "\n",
              "        async function convertToInteractive(key) {\n",
              "          const element = document.querySelector('#df-563745d8-9812-42b0-aa5a-987a577a0b09');\n",
              "          const dataTable =\n",
              "            await google.colab.kernel.invokeFunction('convertToInteractive',\n",
              "                                                     [key], {});\n",
              "          if (!dataTable) return;\n",
              "\n",
              "          const docLinkHtml = 'Like what you see? Visit the ' +\n",
              "            '<a target=\"_blank\" href=https://colab.research.google.com/notebooks/data_table.ipynb>data table notebook</a>'\n",
              "            + ' to learn more about interactive tables.';\n",
              "          element.innerHTML = '';\n",
              "          dataTable['output_type'] = 'display_data';\n",
              "          await google.colab.output.renderOutput(dataTable, element);\n",
              "          const docLink = document.createElement('div');\n",
              "          docLink.innerHTML = docLinkHtml;\n",
              "          element.appendChild(docLink);\n",
              "        }\n",
              "      </script>\n",
              "    </div>\n",
              "  </div>\n",
              "  "
            ]
          },
          "metadata": {},
          "execution_count": 3
        }
      ]
    },
    {
      "cell_type": "code",
      "source": [
        "# Explore the format\n",
        "print(\"Train shape: {}\".format(train.shape))\n",
        "print(\"Test shape: {}\".format(test.shape))"
      ],
      "metadata": {
        "colab": {
          "base_uri": "https://localhost:8080/"
        },
        "id": "LvjM6ZhESyDD",
        "outputId": "80e44f0d-eefa-4fb8-fcca-7de9e6d57642"
      },
      "execution_count": 4,
      "outputs": [
        {
          "output_type": "stream",
          "name": "stdout",
          "text": [
            "Train shape: (105000, 17)\n",
            "Test shape: (45000, 16)\n"
          ]
        }
      ]
    },
    {
      "cell_type": "code",
      "source": [
        "train.columns"
      ],
      "metadata": {
        "colab": {
          "base_uri": "https://localhost:8080/"
        },
        "id": "a8wuIOD4SyF0",
        "outputId": "9813f2d8-12f0-4173-d2b5-0c1d575f0468"
      },
      "execution_count": 5,
      "outputs": [
        {
          "output_type": "execute_result",
          "data": {
            "text/plain": [
              "Index(['AGE', 'GENDER', 'DRIVING_EXPERIENCE', 'EDUCATION', 'INCOME',\n",
              "       'CREDIT_SCORE', 'VEHICLE_OWNERSHIP', 'VEHICLE_YEAR', 'MARRIED',\n",
              "       'CHILDREN', 'POSTAL_CODE', 'ANNUAL_MILEAGE', 'SPEEDING_VIOLATIONS',\n",
              "       'DUIS', 'PAST_ACCIDENTS', 'OUTCOME', 'TYPE_OF_VEHICLE'],\n",
              "      dtype='object')"
            ]
          },
          "metadata": {},
          "execution_count": 5
        }
      ]
    },
    {
      "cell_type": "code",
      "source": [
        "# Plot of the target column\n",
        "label_counts = train.OUTCOME.value_counts()\n",
        "plt.figure(figsize = (8,6))\n",
        "sns.barplot(label_counts.index, label_counts.values, alpha = 0.9)\n",
        "plt.xticks(rotation = 'vertical')\n",
        "plt.xlabel('OUTCOME', fontsize =12)\n",
        "plt.ylabel('Counts', fontsize = 12)\n",
        "plt.show()"
      ],
      "metadata": {
        "colab": {
          "base_uri": "https://localhost:8080/",
          "height": 397
        },
        "id": "udePcp5iSyIj",
        "outputId": "d04462c4-a20f-4a40-9a2b-9bbda2ddd603"
      },
      "execution_count": 6,
      "outputs": [
        {
          "output_type": "display_data",
          "data": {
            "text/plain": [
              "<Figure size 576x432 with 1 Axes>"
            ],
            "image/png": "[encoded data removed]"
          },
          "metadata": {
            "needs_background": "light"
          }
        }
      ]
    },
    {
      "cell_type": "markdown",
      "source": [
        "##  Numerical Data"
      ],
      "metadata": {
        "id": "elSZwGlqUpHT"
      }
    },
    {
      "cell_type": "code",
      "source": [
        "train.info()"
      ],
      "metadata": {
        "colab": {
          "base_uri": "https://localhost:8080/"
        },
        "id": "dhqhqZk-SyLK",
        "outputId": "ea4d5ed2-75ff-4ff5-8ba1-4ce4b4af6f81"
      },
      "execution_count": 7,
      "outputs": [
        {
          "output_type": "stream",
          "name": "stdout",
          "text": [
            "<class 'pandas.core.frame.DataFrame'>\n",
            "RangeIndex: 105000 entries, 0 to 104999\n",
            "Data columns (total 17 columns):\n",
            " #   Column               Non-Null Count   Dtype  \n",
            "---  ------               --------------   -----  \n",
            " 0   AGE                  105000 non-null  object \n",
            " 1   GENDER               105000 non-null  object \n",
            " 2   DRIVING_EXPERIENCE   105000 non-null  object \n",
            " 3   EDUCATION            105000 non-null  object \n",
            " 4   INCOME               105000 non-null  object \n",
            " 5   CREDIT_SCORE         105000 non-null  float64\n",
            " 6   VEHICLE_OWNERSHIP    105000 non-null  float64\n",
            " 7   VEHICLE_YEAR         105000 non-null  object \n",
            " 8   MARRIED              105000 non-null  float64\n",
            " 9   CHILDREN             105000 non-null  float64\n",
            " 10  POSTAL_CODE          105000 non-null  int64  \n",
            " 11  ANNUAL_MILEAGE       105000 non-null  float64\n",
            " 12  SPEEDING_VIOLATIONS  105000 non-null  int64  \n",
            " 13  DUIS                 105000 non-null  int64  \n",
            " 14  PAST_ACCIDENTS       105000 non-null  int64  \n",
            " 15  OUTCOME              105000 non-null  float64\n",
            " 16  TYPE_OF_VEHICLE      105000 non-null  object \n",
            "dtypes: float64(6), int64(4), object(7)\n",
            "memory usage: 13.6+ MB\n"
          ]
        }
      ]
    },
    {
      "cell_type": "code",
      "source": [
        "# Select ONLY numerical columns\n",
        "numerical_cols = [col for col in train.columns if train[col].dtype in [\"int64\", \"float64\"]]\n",
        "numerical_cols"
      ],
      "metadata": {
        "colab": {
          "base_uri": "https://localhost:8080/"
        },
        "id": "Jr8PpWmMSyN3",
        "outputId": "2de45139-ece4-430c-9a26-dd1384128273"
      },
      "execution_count": 8,
      "outputs": [
        {
          "output_type": "execute_result",
          "data": {
            "text/plain": [
              "['CREDIT_SCORE',\n",
              " 'VEHICLE_OWNERSHIP',\n",
              " 'MARRIED',\n",
              " 'CHILDREN',\n",
              " 'POSTAL_CODE',\n",
              " 'ANNUAL_MILEAGE',\n",
              " 'SPEEDING_VIOLATIONS',\n",
              " 'DUIS',\n",
              " 'PAST_ACCIDENTS',\n",
              " 'OUTCOME']"
            ]
          },
          "metadata": {},
          "execution_count": 8
        }
      ]
    },
    {
      "cell_type": "markdown",
      "source": [
        "## Categorical Data"
      ],
      "metadata": {
        "id": "Ftasw1YuVMM0"
      }
    },
    {
      "cell_type": "code",
      "source": [
        "# Select ONLY categorical columns\n",
        "categ_cols = [col for col in train.columns if train[col].dtype in [\"object\"]]\n",
        "categ_cols"
      ],
      "metadata": {
        "colab": {
          "base_uri": "https://localhost:8080/"
        },
        "id": "4EsLCO4mSyQz",
        "outputId": "a633622a-a95a-42e8-d133-3c4163002ad5"
      },
      "execution_count": 9,
      "outputs": [
        {
          "output_type": "execute_result",
          "data": {
            "text/plain": [
              "['AGE',\n",
              " 'GENDER',\n",
              " 'DRIVING_EXPERIENCE',\n",
              " 'EDUCATION',\n",
              " 'INCOME',\n",
              " 'VEHICLE_YEAR',\n",
              " 'TYPE_OF_VEHICLE']"
            ]
          },
          "metadata": {},
          "execution_count": 9
        }
      ]
    },
    {
      "cell_type": "markdown",
      "source": [
        "## Missing Value"
      ],
      "metadata": {
        "id": "IAsXsCWzVPhq"
      }
    },
    {
      "cell_type": "code",
      "source": [
        "# Missing Value\n",
        "train.isna().sum()"
      ],
      "metadata": {
        "colab": {
          "base_uri": "https://localhost:8080/"
        },
        "id": "fUdlwNNBVHQW",
        "outputId": "233f5151-5289-417c-e92a-644130e993b9"
      },
      "execution_count": 10,
      "outputs": [
        {
          "output_type": "execute_result",
          "data": {
            "text/plain": [
              "AGE                    0\n",
              "GENDER                 0\n",
              "DRIVING_EXPERIENCE     0\n",
              "EDUCATION              0\n",
              "INCOME                 0\n",
              "CREDIT_SCORE           0\n",
              "VEHICLE_OWNERSHIP      0\n",
              "VEHICLE_YEAR           0\n",
              "MARRIED                0\n",
              "CHILDREN               0\n",
              "POSTAL_CODE            0\n",
              "ANNUAL_MILEAGE         0\n",
              "SPEEDING_VIOLATIONS    0\n",
              "DUIS                   0\n",
              "PAST_ACCIDENTS         0\n",
              "OUTCOME                0\n",
              "TYPE_OF_VEHICLE        0\n",
              "dtype: int64"
            ]
          },
          "metadata": {},
          "execution_count": 10
        }
      ]
    },
    {
      "cell_type": "code",
      "source": [
        "plt.figure(figsize = (8,6))\n",
        "\n",
        "for i in categ_cols:\n",
        "  print(\"====================================================================\")\n",
        "  print(\"\\n\")\n",
        "  print(str(i) + ' Category Distribution ')\n",
        "  print(\"\\n\")\n",
        "  label_counts = train[str(i)].value_counts()\n",
        "  sns.barplot(label_counts.index, label_counts.values, alpha = 0.9)\n",
        "  plt.xticks(rotation = 'vertical')\n",
        "  plt.xlabel(str(i), fontsize =12)\n",
        "  plt.ylabel('Counts', fontsize = 12)\n",
        "  plt.show()\n",
        "\n"
      ],
      "metadata": {
        "colab": {
          "base_uri": "https://localhost:8080/",
          "height": 1000
        },
        "id": "AmFFYHXC9EeM",
        "outputId": "923ee8e6-d719-48d0-9cb8-5dd5f06d567a"
      },
      "execution_count": 11,
      "outputs": [
        {
          "output_type": "stream",
          "name": "stdout",
          "text": [
            "====================================================================\n",
            "\n",
            "\n",
            "AGE Category Distribution \n",
            "\n",
            "\n"
          ]
        },
        {
          "output_type": "display_data",
          "data": {
            "text/plain": [
              "<Figure size 576x432 with 1 Axes>"
            ],
            "image/png": "[encoded data removed]"
          },
          "metadata": {
            "needs_background": "light"
          }
        },
        {
          "output_type": "stream",
          "name": "stdout",
          "text": [
            "====================================================================\n",
            "\n",
            "\n",
            "GENDER Category Distribution \n",
            "\n",
            "\n"
          ]
        },
        {
          "output_type": "display_data",
          "data": {
            "text/plain": [
              "<Figure size 432x288 with 1 Axes>"
            ],
            "image/png": "[encoded data removed]"
          },
          "metadata": {
            "needs_background": "light"
          }
        },
        {
          "output_type": "stream",
          "name": "stdout",
          "text": [
            "====================================================================\n",
            "\n",
            "\n",
            "DRIVING_EXPERIENCE Category Distribution \n",
            "\n",
            "\n"
          ]
        },
        {
          "output_type": "display_data",
          "data": {
            "text/plain": [
              "<Figure size 432x288 with 1 Axes>"
            ],
            "image/png": "[encoded data removed]"
          },
          "metadata": {
            "needs_background": "light"
          }
        },
        {
          "output_type": "stream",
          "name": "stdout",
          "text": [
            "====================================================================\n",
            "\n",
            "\n",
            "EDUCATION Category Distribution \n",
            "\n",
            "\n"
          ]
        },
        {
          "output_type": "display_data",
          "data": {
            "text/plain": [
              "<Figure size 432x288 with 1 Axes>"
            ],
            "image/png": "[encoded data removed]"
          },
          "metadata": {
            "needs_background": "light"
          }
        },
        {
          "output_type": "stream",
          "name": "stdout",
          "text": [
            "====================================================================\n",
            "\n",
            "\n",
            "INCOME Category Distribution \n",
            "\n",
            "\n"
          ]
        },
        {
          "output_type": "display_data",
          "data": {
            "text/plain": [
              "<Figure size 432x288 with 1 Axes>"
            ],
            "image/png": "[encoded data removed]"
          },
          "metadata": {
            "needs_background": "light"
          }
        },
        {
          "output_type": "stream",
          "name": "stdout",
          "text": [
            "====================================================================\n",
            "\n",
            "\n",
            "VEHICLE_YEAR Category Distribution \n",
            "\n",
            "\n"
          ]
        },
        {
          "output_type": "display_data",
          "data": {
            "text/plain": [
              "<Figure size 432x288 with 1 Axes>"
            ],
            "image/png": "[encoded data removed]"
          },
          "metadata": {
            "needs_background": "light"
          }
        },
        {
          "output_type": "stream",
          "name": "stdout",
          "text": [
            "====================================================================\n",
            "\n",
            "\n",
            "TYPE_OF_VEHICLE Category Distribution \n",
            "\n",
            "\n"
          ]
        },
        {
          "output_type": "display_data",
          "data": {
            "text/plain": [
              "<Figure size 432x288 with 1 Axes>"
            ],
            "image/png": "[encoded data removed]"
          },
          "metadata": {
            "needs_background": "light"
          }
        }
      ]
    },
    {
      "cell_type": "markdown",
      "source": [
        "# Numerical Columns\n",
        "\n",
        "\n",
        "*   Some of the columns from numerical column having categorical data such as Married, Past Accident, Postal code and others \n",
        "\n",
        "*   Therefore we need to convert that features into categorical features\n",
        "\n",
        "\n"
      ],
      "metadata": {
        "id": "qVhjbZDcCcn4"
      }
    },
    {
      "cell_type": "code",
      "source": [
        "\n",
        "for i in ['CREDIT_SCORE','ANNUAL_MILEAGE']:\n",
        "  print(\"================================================================================================================================\")\n",
        "  print(\"\\n\")\n",
        "  print(str(i) + ' Distribution ')\n",
        "  print(str(i) + 'Skewness       : ',train[str(i)].skew())\n",
        "  plt.figure(figsize = (16, 4))\n",
        "  print(\"\\n\")\n",
        "  sns.distplot(a = train[str(i)], color = \"orange\")\n",
        "  plt.xticks(rotation = 'vertical')\n",
        "  plt.xlabel(str(i), fontsize =12)\n",
        "  plt.ylabel('Counts', fontsize = 12)\n",
        "  plt.show()\n"
      ],
      "metadata": {
        "colab": {
          "base_uri": "https://localhost:8080/",
          "height": 818
        },
        "id": "FNPq1Uak_Vo0",
        "outputId": "368594b6-798c-4c21-9b85-77696321cbec"
      },
      "execution_count": 12,
      "outputs": [
        {
          "output_type": "stream",
          "name": "stdout",
          "text": [
            "================================================================================================================================\n",
            "\n",
            "\n",
            "CREDIT_SCORE Distribution \n",
            "CREDIT_SCORESkewness       :  -0.22635846682430696\n",
            "\n",
            "\n"
          ]
        },
        {
          "output_type": "display_data",
          "data": {
            "text/plain": [
              "<Figure size 1152x288 with 1 Axes>"
            ],
            "image/png": "[encoded data removed]"
          },
          "metadata": {
            "needs_background": "light"
          }
        },
        {
          "output_type": "stream",
          "name": "stdout",
          "text": [
            "================================================================================================================================\n",
            "\n",
            "\n",
            "ANNUAL_MILEAGE Distribution \n",
            "ANNUAL_MILEAGESkewness       :  -0.5101178559817349\n",
            "\n",
            "\n"
          ]
        },
        {
          "output_type": "display_data",
          "data": {
            "text/plain": [
              "<Figure size 1152x288 with 1 Axes>"
            ],
            "image/png": "[encoded data removed]"
          },
          "metadata": {
            "needs_background": "light"
          }
        }
      ]
    },
    {
      "cell_type": "code",
      "source": [
        "numerical_cols"
      ],
      "metadata": {
        "colab": {
          "base_uri": "https://localhost:8080/"
        },
        "id": "6WqWqgjHBRVj",
        "outputId": "5814cd7c-5f63-4ab6-e7bd-0bd57b4fe802"
      },
      "execution_count": 13,
      "outputs": [
        {
          "output_type": "execute_result",
          "data": {
            "text/plain": [
              "['CREDIT_SCORE',\n",
              " 'VEHICLE_OWNERSHIP',\n",
              " 'MARRIED',\n",
              " 'CHILDREN',\n",
              " 'POSTAL_CODE',\n",
              " 'ANNUAL_MILEAGE',\n",
              " 'SPEEDING_VIOLATIONS',\n",
              " 'DUIS',\n",
              " 'PAST_ACCIDENTS',\n",
              " 'OUTCOME']"
            ]
          },
          "metadata": {},
          "execution_count": 13
        }
      ]
    },
    {
      "cell_type": "markdown",
      "source": [
        "# Convert Numerical into Categorical Feature "
      ],
      "metadata": {
        "id": "E3G4z32fF5Yo"
      }
    },
    {
      "cell_type": "code",
      "source": [
        "train[\"VEHICLE_OWNERSHIP\"] = train[\"VEHICLE_OWNERSHIP\"].astype(\"object\")\n",
        "train[\"MARRIED\"] = train[\"MARRIED\"].astype(\"object\")\n",
        "train[\"CHILDREN\"] = train[\"CHILDREN\"].astype(\"object\")\n",
        "train[\"POSTAL_CODE\"] = train[\"POSTAL_CODE\"].astype(\"object\")\n",
        "\n",
        "train[\"SPEEDING_VIOLATIONS\"] = train[\"SPEEDING_VIOLATIONS\"].astype(\"object\")\n",
        "train[\"DUIS\"] = train[\"DUIS\"].astype(\"object\")\n",
        "train[\"PAST_ACCIDENTS\"] = train[\"PAST_ACCIDENTS\"].astype(\"object\")\n",
        "train[\"OUTCOME\"] = train[\"OUTCOME\"].astype(\"object\")"
      ],
      "metadata": {
        "id": "ziQsaiqiElm5"
      },
      "execution_count": 14,
      "outputs": []
    },
    {
      "cell_type": "code",
      "source": [
        "train.info()"
      ],
      "metadata": {
        "colab": {
          "base_uri": "https://localhost:8080/"
        },
        "id": "Qb-S0S14Elp4",
        "outputId": "26c19cbb-301b-4722-baa7-67b581b4a6a1"
      },
      "execution_count": 15,
      "outputs": [
        {
          "output_type": "stream",
          "name": "stdout",
          "text": [
            "<class 'pandas.core.frame.DataFrame'>\n",
            "RangeIndex: 105000 entries, 0 to 104999\n",
            "Data columns (total 17 columns):\n",
            " #   Column               Non-Null Count   Dtype  \n",
            "---  ------               --------------   -----  \n",
            " 0   AGE                  105000 non-null  object \n",
            " 1   GENDER               105000 non-null  object \n",
            " 2   DRIVING_EXPERIENCE   105000 non-null  object \n",
            " 3   EDUCATION            105000 non-null  object \n",
            " 4   INCOME               105000 non-null  object \n",
            " 5   CREDIT_SCORE         105000 non-null  float64\n",
            " 6   VEHICLE_OWNERSHIP    105000 non-null  object \n",
            " 7   VEHICLE_YEAR         105000 non-null  object \n",
            " 8   MARRIED              105000 non-null  object \n",
            " 9   CHILDREN             105000 non-null  object \n",
            " 10  POSTAL_CODE          105000 non-null  object \n",
            " 11  ANNUAL_MILEAGE       105000 non-null  float64\n",
            " 12  SPEEDING_VIOLATIONS  105000 non-null  object \n",
            " 13  DUIS                 105000 non-null  object \n",
            " 14  PAST_ACCIDENTS       105000 non-null  object \n",
            " 15  OUTCOME              105000 non-null  object \n",
            " 16  TYPE_OF_VEHICLE      105000 non-null  object \n",
            "dtypes: float64(2), object(15)\n",
            "memory usage: 13.6+ MB\n"
          ]
        }
      ]
    },
    {
      "cell_type": "code",
      "source": [
        "plt.figure(figsize = (8,6))\n",
        "\n",
        "for i in ['VEHICLE_OWNERSHIP','MARRIED','CHILDREN','SPEEDING_VIOLATIONS','DUIS','PAST_ACCIDENTS']:\n",
        "  print(\"====================================================================\")\n",
        "  print(\"\\n\")\n",
        "  print(str(i) + ' Category Distribution ')\n",
        "  print(\"\\n\")\n",
        "  label_counts = train[str(i)].value_counts()\n",
        "  sns.barplot(label_counts.index, label_counts.values, alpha = 0.9)\n",
        "  plt.xticks(rotation = 'vertical')\n",
        "  plt.xlabel(str(i), fontsize =12)\n",
        "  plt.ylabel('Counts', fontsize = 12)\n",
        "  plt.show()"
      ],
      "metadata": {
        "colab": {
          "base_uri": "https://localhost:8080/",
          "height": 1000
        },
        "id": "dlc7-qJaElsw",
        "outputId": "0a0028c6-3eb1-4ba2-b873-b7778141c5fd"
      },
      "execution_count": 16,
      "outputs": [
        {
          "output_type": "stream",
          "name": "stdout",
          "text": [
            "====================================================================\n",
            "\n",
            "\n",
            "VEHICLE_OWNERSHIP Category Distribution \n",
            "\n",
            "\n"
          ]
        },
        {
          "output_type": "display_data",
          "data": {
            "text/plain": [
              "<Figure size 576x432 with 1 Axes>"
            ],
            "image/png": "[encoded data removed]"
          },
          "metadata": {
            "needs_background": "light"
          }
        },
        {
          "output_type": "stream",
          "name": "stdout",
          "text": [
            "====================================================================\n",
            "\n",
            "\n",
            "MARRIED Category Distribution \n",
            "\n",
            "\n"
          ]
        },
        {
          "output_type": "display_data",
          "data": {
            "text/plain": [
              "<Figure size 432x288 with 1 Axes>"
            ],
            "image/png": "[encoded data removed]"
          },
          "metadata": {
            "needs_background": "light"
          }
        },
        {
          "output_type": "stream",
          "name": "stdout",
          "text": [
            "====================================================================\n",
            "\n",
            "\n",
            "CHILDREN Category Distribution \n",
            "\n",
            "\n"
          ]
        },
        {
          "output_type": "display_data",
          "data": {
            "text/plain": [
              "<Figure size 432x288 with 1 Axes>"
            ],
            "image/png": "[encoded data removed]"
          },
          "metadata": {
            "needs_background": "light"
          }
        },
        {
          "output_type": "stream",
          "name": "stdout",
          "text": [
            "====================================================================\n",
            "\n",
            "\n",
            "SPEEDING_VIOLATIONS Category Distribution \n",
            "\n",
            "\n"
          ]
        },
        {
          "output_type": "display_data",
          "data": {
            "text/plain": [
              "<Figure size 432x288 with 1 Axes>"
            ],
            "image/png": "[encoded data removed]"
          },
          "metadata": {
            "needs_background": "light"
          }
        },
        {
          "output_type": "stream",
          "name": "stdout",
          "text": [
            "====================================================================\n",
            "\n",
            "\n",
            "DUIS Category Distribution \n",
            "\n",
            "\n"
          ]
        },
        {
          "output_type": "display_data",
          "data": {
            "text/plain": [
              "<Figure size 432x288 with 1 Axes>"
            ],
            "image/png": "[encoded data removed]"
          },
          "metadata": {
            "needs_background": "light"
          }
        },
        {
          "output_type": "stream",
          "name": "stdout",
          "text": [
            "====================================================================\n",
            "\n",
            "\n",
            "PAST_ACCIDENTS Category Distribution \n",
            "\n",
            "\n"
          ]
        },
        {
          "output_type": "display_data",
          "data": {
            "text/plain": [
              "<Figure size 432x288 with 1 Axes>"
            ],
            "image/png": "[encoded data removed]"
          },
          "metadata": {
            "needs_background": "light"
          }
        }
      ]
    },
    {
      "cell_type": "code",
      "source": [
        "print(\"POSTAL_CODE having Different unique code : \",len(train['POSTAL_CODE'].unique()))"
      ],
      "metadata": {
        "colab": {
          "base_uri": "https://localhost:8080/"
        },
        "id": "Cd2HllZHElvw",
        "outputId": "498409fd-10bd-4789-cad6-b09a92417322"
      },
      "execution_count": 17,
      "outputs": [
        {
          "output_type": "stream",
          "name": "stdout",
          "text": [
            "POSTAL_CODE having Different unique code :  10937\n"
          ]
        }
      ]
    },
    {
      "cell_type": "code",
      "source": [],
      "metadata": {
        "id": "l7Hc7KUT72gd"
      },
      "execution_count": 17,
      "outputs": []
    },
    {
      "cell_type": "code",
      "source": [],
      "metadata": {
        "id": "BsYi4TqQLQVf"
      },
      "execution_count": 17,
      "outputs": []
    }
  ]
}